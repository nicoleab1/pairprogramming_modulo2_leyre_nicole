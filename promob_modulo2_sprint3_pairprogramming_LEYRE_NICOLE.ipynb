{
 "cells": [
  {
   "cell_type": "markdown",
   "metadata": {},
   "source": [
    "# Ejercicios\n",
    "Escribe un script en Python utilizando Selenium que realice las siguientes tareas en la página web del Decathlon:\n",
    "\n",
    "1. Abra una el navegador y maximice la ventana.\n",
    "\n",
    "2. Acceda al sitio web de Decathlon en la URL \"https://www.decathlon.es/\".\n",
    "\n",
    "3. Haga clic en el botón \"Aceptar\" en la notificación de cookies utilizando su selector CSS.\n",
    "\n",
    "4. Solicite al usuario que ingrese una búsqueda (por ejemplo, un producto deportivo) mediante una entrada de texto.\n",
    "\n",
    "5. Utilice el texto ingresado para buscar productos en el sitio web de Decathlon y presione la tecla \"Enter\" para iniciar la búsqueda.\n",
    "\n",
    "6. Inicialice un diccionario llamado `diccionario_resultados` con tres listas vacías: \"nombre\", \"precio\" y \"puntuación\".\n",
    "\n",
    "7. Itere sobre los primeros 5 resultados de la búsqueda y realice las siguientes acciones:\n",
    "\n",
    "    a. Haga clic en un resultado específico.\n",
    "    b. Recopile el nombre del producto, el precio y la puntuación del producto y almacénelos en las listas correspondientes en el diccionario `diccionario_resultados`.\n",
    "\n",
    "    c. Navegue de regreso a los resultados de búsqueda.\n",
    "\n",
    "8. Cierre el navegador Chrome.\n",
    "\n",
    "El resultado final debería ser un diccionario con información sobre los primeros 5 productos encontrados durante la búsqueda en el sitio web de Decathlon, incluyendo el nombre del producto, el precio y la puntuación. Muestralo en un DataFrame similar al ves a continuación: \n",
    "\n",
    "| nombre                                             | precio    | puntuacion |\n",
    "|----------------------------------------------------|-----------|------------|\n",
    "| Camiseta Real Madrid Local Adulto Temporada 23/24  | 99,99 €   | 5/5        |\n",
    "| Camiseta térmica interior de esquí y nieve Muj... | 6,99 €    | 4.7/5      |\n",
    "| Camiseta running térmica transpirable Mujer Ki... | 19,99 €   | 4.8/5      |\n",
    "| Camiseta térmica running Mujer negra              | 14,99 €   | 4.7/5      |\n",
    "| Camiseta de fútbol Adulto Kipsta F100 roja         | 5,99 €    | 4.5/5      |"
   ]
  },
  {
   "cell_type": "code",
   "execution_count": 1,
   "metadata": {},
   "outputs": [],
   "source": [
    "# Importar librerías para tratamiento de datos\n",
    "# -----------------------------------------------------------------------\n",
    "\n",
    "import pandas as pd  # Pandas es una poderosa librería para manipulación y análisis de datos en Python.\n",
    "\n",
    "\n",
    "# Importar librerías para automatización de navegadores web con Selenium\n",
    "# -----------------------------------------------------------------------\n",
    "from selenium import webdriver  # Selenium es una herramienta para automatizar la interacción con navegadores web.\n",
    "from webdriver_manager.chrome import ChromeDriverManager  # ChromeDriverManager gestiona la instalación del controlador de Chrome.\n",
    "from selenium.webdriver.common.keys import Keys  # Keys es útil para simular eventos de teclado en Selenium.\n",
    "from selenium.webdriver.support.ui import Select  # Select se utiliza para interactuar con elementos <select> en páginas web.\n",
    "\n",
    "\n",
    "# Importar librerías para pausar la ejecución\n",
    "# -----------------------------------------------------------------------\n",
    "from time import sleep  # Sleep se utiliza para pausar la ejecución del programa por un número de segundos.\n",
    "\n",
    "# Configuraciones\n",
    "# -----------------------------------------------------------------------\n",
    "pd.set_option('display.max_columns', None)  # Establece una opción de Pandas para mostrar todas las columnas de un DataFrame."
   ]
  },
  {
   "cell_type": "code",
   "execution_count": 11,
   "metadata": {},
   "outputs": [
    {
     "ename": "NoSuchElementException",
     "evalue": "Message: no such element: Unable to locate element: {\"method\":\"xpath\",\"selector\":\"//*[@id=\"app\"]/main/article/div[2]/section/div[2]/div/button/div/span[6]\"}\n  (Session info: chrome=125.0.6422.142); For documentation on this error, please visit: https://www.selenium.dev/documentation/webdriver/troubleshooting/errors#no-such-element-exception\nStacktrace:\n\tGetHandleVerifier [0x00007FF695D41F52+60322]\n\t(No symbol) [0x00007FF695CBCEC9]\n\t(No symbol) [0x00007FF695B77EBA]\n\t(No symbol) [0x00007FF695BC7676]\n\t(No symbol) [0x00007FF695BC773C]\n\t(No symbol) [0x00007FF695C0E967]\n\t(No symbol) [0x00007FF695BEC25F]\n\t(No symbol) [0x00007FF695C0BC80]\n\t(No symbol) [0x00007FF695BEBFC3]\n\t(No symbol) [0x00007FF695BB9617]\n\t(No symbol) [0x00007FF695BBA211]\n\tGetHandleVerifier [0x00007FF6960594AD+3301629]\n\tGetHandleVerifier [0x00007FF6960A36D3+3605283]\n\tGetHandleVerifier [0x00007FF696099450+3563680]\n\tGetHandleVerifier [0x00007FF695DF4326+790390]\n\t(No symbol) [0x00007FF695CC750F]\n\t(No symbol) [0x00007FF695CC3404]\n\t(No symbol) [0x00007FF695CC3592]\n\t(No symbol) [0x00007FF695CB2F9F]\n\tBaseThreadInitThunk [0x00007FF9CE9B257D+29]\n\tRtlUserThreadStart [0x00007FF9CF34AA48+40]\n",
     "output_type": "error",
     "traceback": [
      "\u001b[1;31m---------------------------------------------------------------------------\u001b[0m",
      "\u001b[1;31mNoSuchElementException\u001b[0m                    Traceback (most recent call last)",
      "Cell \u001b[1;32mIn[11], line 38\u001b[0m\n\u001b[0;32m     36\u001b[0m nombre \u001b[38;5;241m=\u001b[39m driver\u001b[38;5;241m.\u001b[39mfind_element(\u001b[38;5;124m\"\u001b[39m\u001b[38;5;124mcss selector\u001b[39m\u001b[38;5;124m\"\u001b[39m, \u001b[38;5;124m\"\u001b[39m\u001b[38;5;124m#app > main > article > div.vtmn-relative.vtmn-z-\u001b[39m\u001b[38;5;124m\\\u001b[39m\u001b[38;5;124m[2\u001b[39m\u001b[38;5;124m\\\u001b[39m\u001b[38;5;124m] > section > h1\u001b[39m\u001b[38;5;124m\"\u001b[39m)\u001b[38;5;241m.\u001b[39mtext\n\u001b[0;32m     37\u001b[0m precio \u001b[38;5;241m=\u001b[39m driver\u001b[38;5;241m.\u001b[39mfind_element(\u001b[38;5;124m\"\u001b[39m\u001b[38;5;124mcss selector\u001b[39m\u001b[38;5;124m\"\u001b[39m, \u001b[38;5;124m\"\u001b[39m\u001b[38;5;124m#app > main > article > div.vtmn-relative.vtmn-z-\u001b[39m\u001b[38;5;124m\\\u001b[39m\u001b[38;5;124m[2\u001b[39m\u001b[38;5;124m\\\u001b[39m\u001b[38;5;124m] > section > div.price-presentation.vtmn-flex.vtmn-flex-col.vtmn-items-start.vtmn-leading-tight.vtmn-mt-2.svelte-1wujduz > div.vtmn-flex.vtmn-flex-col.vtmn-items-start.vtmn-items-stretch.svelte-1wujduz > div > div > span\u001b[39m\u001b[38;5;124m\"\u001b[39m)\u001b[38;5;241m.\u001b[39mtext\n\u001b[1;32m---> 38\u001b[0m puntuacion \u001b[38;5;241m=\u001b[39m \u001b[43mdriver\u001b[49m\u001b[38;5;241;43m.\u001b[39;49m\u001b[43mfind_element\u001b[49m\u001b[43m(\u001b[49m\u001b[38;5;124;43m\"\u001b[39;49m\u001b[38;5;124;43mxpath\u001b[39;49m\u001b[38;5;124;43m\"\u001b[39;49m\u001b[43m,\u001b[49m\u001b[43m \u001b[49m\u001b[38;5;124;43m'\u001b[39;49m\u001b[38;5;124;43m//*[@id=\u001b[39;49m\u001b[38;5;124;43m\"\u001b[39;49m\u001b[38;5;124;43mapp\u001b[39;49m\u001b[38;5;124;43m\"\u001b[39;49m\u001b[38;5;124;43m]/main/article/div[2]/section/div[2]/div/button/div/span[6]\u001b[39;49m\u001b[38;5;124;43m'\u001b[39;49m\u001b[43m)\u001b[49m\u001b[38;5;241m.\u001b[39mtext\n\u001b[0;32m     40\u001b[0m sleep(\u001b[38;5;241m3\u001b[39m)\n\u001b[0;32m     42\u001b[0m \u001b[38;5;66;03m## Añadir al diccionario\u001b[39;00m\n",
      "File \u001b[1;32m~\\AppData\\Local\\Packages\\PythonSoftwareFoundation.Python.3.11_qbz5n2kfra8p0\\LocalCache\\local-packages\\Python311\\site-packages\\selenium\\webdriver\\remote\\webdriver.py:741\u001b[0m, in \u001b[0;36mWebDriver.find_element\u001b[1;34m(self, by, value)\u001b[0m\n\u001b[0;32m    738\u001b[0m     by \u001b[38;5;241m=\u001b[39m By\u001b[38;5;241m.\u001b[39mCSS_SELECTOR\n\u001b[0;32m    739\u001b[0m     value \u001b[38;5;241m=\u001b[39m \u001b[38;5;124mf\u001b[39m\u001b[38;5;124m'\u001b[39m\u001b[38;5;124m[name=\u001b[39m\u001b[38;5;124m\"\u001b[39m\u001b[38;5;132;01m{\u001b[39;00mvalue\u001b[38;5;132;01m}\u001b[39;00m\u001b[38;5;124m\"\u001b[39m\u001b[38;5;124m]\u001b[39m\u001b[38;5;124m'\u001b[39m\n\u001b[1;32m--> 741\u001b[0m \u001b[38;5;28;01mreturn\u001b[39;00m \u001b[38;5;28;43mself\u001b[39;49m\u001b[38;5;241;43m.\u001b[39;49m\u001b[43mexecute\u001b[49m\u001b[43m(\u001b[49m\u001b[43mCommand\u001b[49m\u001b[38;5;241;43m.\u001b[39;49m\u001b[43mFIND_ELEMENT\u001b[49m\u001b[43m,\u001b[49m\u001b[43m \u001b[49m\u001b[43m{\u001b[49m\u001b[38;5;124;43m\"\u001b[39;49m\u001b[38;5;124;43musing\u001b[39;49m\u001b[38;5;124;43m\"\u001b[39;49m\u001b[43m:\u001b[49m\u001b[43m \u001b[49m\u001b[43mby\u001b[49m\u001b[43m,\u001b[49m\u001b[43m \u001b[49m\u001b[38;5;124;43m\"\u001b[39;49m\u001b[38;5;124;43mvalue\u001b[39;49m\u001b[38;5;124;43m\"\u001b[39;49m\u001b[43m:\u001b[49m\u001b[43m \u001b[49m\u001b[43mvalue\u001b[49m\u001b[43m}\u001b[49m\u001b[43m)\u001b[49m[\u001b[38;5;124m\"\u001b[39m\u001b[38;5;124mvalue\u001b[39m\u001b[38;5;124m\"\u001b[39m]\n",
      "File \u001b[1;32m~\\AppData\\Local\\Packages\\PythonSoftwareFoundation.Python.3.11_qbz5n2kfra8p0\\LocalCache\\local-packages\\Python311\\site-packages\\selenium\\webdriver\\remote\\webdriver.py:347\u001b[0m, in \u001b[0;36mWebDriver.execute\u001b[1;34m(self, driver_command, params)\u001b[0m\n\u001b[0;32m    345\u001b[0m response \u001b[38;5;241m=\u001b[39m \u001b[38;5;28mself\u001b[39m\u001b[38;5;241m.\u001b[39mcommand_executor\u001b[38;5;241m.\u001b[39mexecute(driver_command, params)\n\u001b[0;32m    346\u001b[0m \u001b[38;5;28;01mif\u001b[39;00m response:\n\u001b[1;32m--> 347\u001b[0m     \u001b[38;5;28;43mself\u001b[39;49m\u001b[38;5;241;43m.\u001b[39;49m\u001b[43merror_handler\u001b[49m\u001b[38;5;241;43m.\u001b[39;49m\u001b[43mcheck_response\u001b[49m\u001b[43m(\u001b[49m\u001b[43mresponse\u001b[49m\u001b[43m)\u001b[49m\n\u001b[0;32m    348\u001b[0m     response[\u001b[38;5;124m\"\u001b[39m\u001b[38;5;124mvalue\u001b[39m\u001b[38;5;124m\"\u001b[39m] \u001b[38;5;241m=\u001b[39m \u001b[38;5;28mself\u001b[39m\u001b[38;5;241m.\u001b[39m_unwrap_value(response\u001b[38;5;241m.\u001b[39mget(\u001b[38;5;124m\"\u001b[39m\u001b[38;5;124mvalue\u001b[39m\u001b[38;5;124m\"\u001b[39m, \u001b[38;5;28;01mNone\u001b[39;00m))\n\u001b[0;32m    349\u001b[0m     \u001b[38;5;28;01mreturn\u001b[39;00m response\n",
      "File \u001b[1;32m~\\AppData\\Local\\Packages\\PythonSoftwareFoundation.Python.3.11_qbz5n2kfra8p0\\LocalCache\\local-packages\\Python311\\site-packages\\selenium\\webdriver\\remote\\errorhandler.py:229\u001b[0m, in \u001b[0;36mErrorHandler.check_response\u001b[1;34m(self, response)\u001b[0m\n\u001b[0;32m    227\u001b[0m         alert_text \u001b[38;5;241m=\u001b[39m value[\u001b[38;5;124m\"\u001b[39m\u001b[38;5;124malert\u001b[39m\u001b[38;5;124m\"\u001b[39m]\u001b[38;5;241m.\u001b[39mget(\u001b[38;5;124m\"\u001b[39m\u001b[38;5;124mtext\u001b[39m\u001b[38;5;124m\"\u001b[39m)\n\u001b[0;32m    228\u001b[0m     \u001b[38;5;28;01mraise\u001b[39;00m exception_class(message, screen, stacktrace, alert_text)  \u001b[38;5;66;03m# type: ignore[call-arg]  # mypy is not smart enough here\u001b[39;00m\n\u001b[1;32m--> 229\u001b[0m \u001b[38;5;28;01mraise\u001b[39;00m exception_class(message, screen, stacktrace)\n",
      "\u001b[1;31mNoSuchElementException\u001b[0m: Message: no such element: Unable to locate element: {\"method\":\"xpath\",\"selector\":\"//*[@id=\"app\"]/main/article/div[2]/section/div[2]/div/button/div/span[6]\"}\n  (Session info: chrome=125.0.6422.142); For documentation on this error, please visit: https://www.selenium.dev/documentation/webdriver/troubleshooting/errors#no-such-element-exception\nStacktrace:\n\tGetHandleVerifier [0x00007FF695D41F52+60322]\n\t(No symbol) [0x00007FF695CBCEC9]\n\t(No symbol) [0x00007FF695B77EBA]\n\t(No symbol) [0x00007FF695BC7676]\n\t(No symbol) [0x00007FF695BC773C]\n\t(No symbol) [0x00007FF695C0E967]\n\t(No symbol) [0x00007FF695BEC25F]\n\t(No symbol) [0x00007FF695C0BC80]\n\t(No symbol) [0x00007FF695BEBFC3]\n\t(No symbol) [0x00007FF695BB9617]\n\t(No symbol) [0x00007FF695BBA211]\n\tGetHandleVerifier [0x00007FF6960594AD+3301629]\n\tGetHandleVerifier [0x00007FF6960A36D3+3605283]\n\tGetHandleVerifier [0x00007FF696099450+3563680]\n\tGetHandleVerifier [0x00007FF695DF4326+790390]\n\t(No symbol) [0x00007FF695CC750F]\n\t(No symbol) [0x00007FF695CC3404]\n\t(No symbol) [0x00007FF695CC3592]\n\t(No symbol) [0x00007FF695CB2F9F]\n\tBaseThreadInitThunk [0x00007FF9CE9B257D+29]\n\tRtlUserThreadStart [0x00007FF9CF34AA48+40]\n"
     ]
    }
   ],
   "source": [
    "# Abrir navegador Chrome\n",
    "driver = webdriver.Chrome()\n",
    "# Entrar a decathlon\n",
    "driver.get(\"https://www.decathlon.es/\")\n",
    "# Maximizar la pantalla\n",
    "driver.maximize_window()\n",
    "\n",
    "sleep(2) # descansito\n",
    "\n",
    "# Aceptar cookies\n",
    "driver.find_element(\"css selector\", \"#didomi-notice-agree-button\").click()\n",
    "\n",
    "sleep(2) \n",
    "\n",
    "# Iniciar búsqueda de zapatillas\n",
    "driver.find_element(\"css selector\", \"#search-bar > div > form > input\").send_keys(\"zapatillas\", Keys.ENTER)\n",
    "\n",
    "# Creamos diccionario para almacenar la información\n",
    "diccionario_zapatillas = {\"nombre\": [], \"precio\": [], \"puntuacion\": []}\n",
    "\n",
    "sleep(2)\n",
    "\n",
    "# Extraer los datos\n",
    "\n",
    "## Entrar en cada producto\n",
    "\n",
    "for elemento in range (2,6):\n",
    "    \n",
    "    sleep(5)\n",
    "    \n",
    "    driver.find_element(\"xpath\", f'//*[@id=\"app\"]/main/div[2]/section[2]/div/div[{elemento}]').click()\n",
    "    \n",
    "    sleep(4)\n",
    "\n",
    "    ## Crear las variables\n",
    "    nombre = driver.find_element(\"css selector\", \"#app > main > article > div.vtmn-relative.vtmn-z-\\[2\\] > section > h1\").text\n",
    "    precio = driver.find_element(\"css selector\", \"#app > main > article > div.vtmn-relative.vtmn-z-\\[2\\] > section > div.price-presentation.vtmn-flex.vtmn-flex-col.vtmn-items-start.vtmn-leading-tight.vtmn-mt-2.svelte-1wujduz > div.vtmn-flex.vtmn-flex-col.vtmn-items-start.vtmn-items-stretch.svelte-1wujduz > div > div > span\").text\n",
    "    puntuacion = driver.find_element(\"xpath\", '//*[@id=\"app\"]/main/article/div[2]/section/div[2]/div/button/div/span[6]').text\n",
    "\n",
    "    sleep(3)\n",
    "    \n",
    "    ## Añadir al diccionario\n",
    "    diccionario_zapatillas[\"nombre\"].append(nombre)\n",
    "    diccionario_zapatillas[\"precio\"].append(precio)\n",
    "    diccionario_zapatillas[\"puntuacion\"].append(puntuacion)\n",
    "\n",
    "    sleep(5)\n",
    "    \n",
    "    driver.back()\n",
    "    \n",
    "   \n",
    "    \n",
    "\n",
    "\n",
    "driver.close()\n"
   ]
  },
  {
   "cell_type": "code",
   "execution_count": null,
   "metadata": {},
   "outputs": [],
   "source": [
    "# #app > main > div.list-body.svelte-duar7s > section.listing-section.svelte-duar7s > div > div:nth-child(3)\n",
    "# #app > main > div.list-body.svelte-duar7s > section.listing-section.svelte-duar7s > div > div:nth-child(1)\n",
    "# #app > main > div.list-body.svelte-duar7s > section.listing-section.svelte-duar7s > div > div:nth-child(3)"
   ]
  },
  {
   "cell_type": "code",
   "execution_count": null,
   "metadata": {},
   "outputs": [],
   "source": [
    "# //*[@id=\"app\"]/main/div[2]/section[2]/div/div[2]\n",
    "# //*[@id=\"app\"]/main/div[2]/section[2]/div/div[1]"
   ]
  },
  {
   "cell_type": "code",
   "execution_count": 11,
   "metadata": {},
   "outputs": [
    {
     "data": {
      "text/plain": [
       "{'nombre': ['Zapatillas Deportivas adidas Advantage Niños Blanco del 28 al 34'],\n",
       " 'precio': ['25,99 €'],\n",
       " 'puntuacion': ['4.7/5']}"
      ]
     },
     "execution_count": 11,
     "metadata": {},
     "output_type": "execute_result"
    }
   ],
   "source": [
    "diccionario_zapatillas"
   ]
  }
 ],
 "metadata": {
  "kernelspec": {
   "display_name": "Python 3",
   "language": "python",
   "name": "python3"
  },
  "language_info": {
   "codemirror_mode": {
    "name": "ipython",
    "version": 3
   },
   "file_extension": ".py",
   "mimetype": "text/x-python",
   "name": "python",
   "nbconvert_exporter": "python",
   "pygments_lexer": "ipython3",
   "version": "3.11.9"
  }
 },
 "nbformat": 4,
 "nbformat_minor": 2
}
