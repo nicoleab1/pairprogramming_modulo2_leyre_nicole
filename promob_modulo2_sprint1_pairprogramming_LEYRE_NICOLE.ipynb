{
 "cells": [
  {
   "cell_type": "markdown",
   "metadata": {},
   "source": [
    "Ejercicios\n",
    "\n",
    "1.  Utilizando la API de Balldontlie extrae la siguiente información. \n",
    "\n",
    "    - El nombre, apellido y equipo de cada uno de los jugadores que tenemos en la NBA. Para eso tendrás que usar el [siguiente](https://www.balldontlie.io/home.html#players) endpoint. Extrae información de 200 jugadores. Devuelve los resultados en un DataFrame. Te deberá quedar algo parecido a esto:\n",
    "\n",
    "        ![jugadores](https://github.com/Adalab/data_imagenes/blob/main/Modulo-2/api's_clase_invertida_jugadores.png?raw=true)\n",
    "\n",
    "\n",
    "    - Extrae información de todos los partidos jugados, en concreto deberás sacar la información del nombre del equipo local, nombre del equipo visitante, puntos del equipo local y del visitante y la temporada a la que pertenece el partido. Para eso tendrás que usar el [siguiente](https://www.balldontlie.io/home.html#get-all-games) endpoint. Extrae la información de 200 partidos. Devuelve los resultados en un DataFrame. Te deberá quedar algo parecido a esto: \n",
    "\n",
    "        ![partidos](https://github.com/Adalab/data_imagenes/blob/main/Modulo-2/api's_clase_invertida_partidos.png?raw=true)\n"
   ]
  },
  {
   "cell_type": "code",
   "execution_count": 83,
   "metadata": {},
   "outputs": [
    {
     "name": "stdout",
     "output_type": "stream",
     "text": [
      "Requirement already satisfied: requests in c:\\users\\trico\\appdata\\local\\packages\\pythonsoftwarefoundation.python.3.11_qbz5n2kfra8p0\\localcache\\local-packages\\python311\\site-packages (2.32.3)\n",
      "Requirement already satisfied: charset-normalizer<4,>=2 in c:\\users\\trico\\appdata\\local\\packages\\pythonsoftwarefoundation.python.3.11_qbz5n2kfra8p0\\localcache\\local-packages\\python311\\site-packages (from requests) (3.3.2)\n",
      "Requirement already satisfied: idna<4,>=2.5 in c:\\users\\trico\\appdata\\local\\packages\\pythonsoftwarefoundation.python.3.11_qbz5n2kfra8p0\\localcache\\local-packages\\python311\\site-packages (from requests) (3.7)\n",
      "Requirement already satisfied: urllib3<3,>=1.21.1 in c:\\users\\trico\\appdata\\local\\packages\\pythonsoftwarefoundation.python.3.11_qbz5n2kfra8p0\\localcache\\local-packages\\python311\\site-packages (from requests) (2.2.1)\n",
      "Requirement already satisfied: certifi>=2017.4.17 in c:\\users\\trico\\appdata\\local\\packages\\pythonsoftwarefoundation.python.3.11_qbz5n2kfra8p0\\localcache\\local-packages\\python311\\site-packages (from requests) (2024.6.2)\n"
     ]
    }
   ],
   "source": [
    "! pip install requests"
   ]
  },
  {
   "cell_type": "code",
   "execution_count": 84,
   "metadata": {},
   "outputs": [],
   "source": [
    "import requests"
   ]
  },
  {
   "cell_type": "code",
   "execution_count": 85,
   "metadata": {},
   "outputs": [],
   "source": [
    "import pandas as pd"
   ]
  },
  {
   "cell_type": "code",
   "execution_count": 86,
   "metadata": {},
   "outputs": [],
   "source": [
    "llamada_jugadores = requests.get(f\"http://api.balldontlie.io/v1/players\", headers = {'Authorization': \"dfa7cc5e-e1fd-4c23-8f10-92134828489f\"})\n"
   ]
  },
  {
   "cell_type": "code",
   "execution_count": 87,
   "metadata": {},
   "outputs": [],
   "source": [
    "jugadores_json = llamada_jugadores.json()"
   ]
  },
  {
   "cell_type": "code",
   "execution_count": 88,
   "metadata": {},
   "outputs": [
    {
     "name": "stdout",
     "output_type": "stream",
     "text": [
      "{'data': [{'id': 1, 'first_name': 'Alex', 'last_name': 'Abrines', 'position': 'G', 'height': '6-6', 'weight': '190', 'jersey_number': '8', 'college': 'FC Barcelona', 'country': 'Spain', 'draft_year': 2013, 'draft_round': 2, 'draft_number': 32, 'team': {'id': 21, 'conference': 'West', 'division': 'Northwest', 'city': 'Oklahoma City', 'name': 'Thunder', 'full_name': 'Oklahoma City Thunder', 'abbreviation': 'OKC'}}, {'id': 2, 'first_name': 'Jaylen', 'last_name': 'Adams', 'position': 'G', 'height': '6-0', 'weight': '225', 'jersey_number': '10', 'college': 'St. Bonaventure', 'country': 'USA', 'draft_year': None, 'draft_round': None, 'draft_number': None, 'team': {'id': 1, 'conference': 'East', 'division': 'Southeast', 'city': 'Atlanta', 'name': 'Hawks', 'full_name': 'Atlanta Hawks', 'abbreviation': 'ATL'}}, {'id': 3, 'first_name': 'Steven', 'last_name': 'Adams', 'position': 'C', 'height': '6-11', 'weight': '265', 'jersey_number': '12', 'college': 'Pittsburgh', 'country': 'New Zealand', 'draft_year': 2013, 'draft_round': 1, 'draft_number': 12, 'team': {'id': 11, 'conference': 'West', 'division': 'Southwest', 'city': 'Houston', 'name': 'Rockets', 'full_name': 'Houston Rockets', 'abbreviation': 'HOU'}}, {'id': 4, 'first_name': 'Bam', 'last_name': 'Adebayo', 'position': 'C-F', 'height': '6-9', 'weight': '255', 'jersey_number': '13', 'college': 'Kentucky', 'country': 'USA', 'draft_year': 2017, 'draft_round': 1, 'draft_number': 14, 'team': {'id': 16, 'conference': 'East', 'division': 'Southeast', 'city': 'Miami', 'name': 'Heat', 'full_name': 'Miami Heat', 'abbreviation': 'MIA'}}, {'id': 5, 'first_name': 'DeVaughn', 'last_name': 'Akoon-Purcell', 'position': 'G-F', 'height': '6-5', 'weight': '201', 'jersey_number': '44', 'college': 'Illinois State', 'country': 'Trinidad and Tobago', 'draft_year': 2016, 'draft_round': None, 'draft_number': None, 'team': {'id': 8, 'conference': 'West', 'division': 'Northwest', 'city': 'Denver', 'name': 'Nuggets', 'full_name': 'Denver Nuggets', 'abbreviation': 'DEN'}}, {'id': 6, 'first_name': 'LaMarcus', 'last_name': 'Aldridge', 'position': 'F', 'height': '6-11', 'weight': '250', 'jersey_number': '21', 'college': 'Texas', 'country': 'USA', 'draft_year': 2006, 'draft_round': 1, 'draft_number': 2, 'team': {'id': 3, 'conference': 'East', 'division': 'Atlantic', 'city': 'Brooklyn', 'name': 'Nets', 'full_name': 'Brooklyn Nets', 'abbreviation': 'BKN'}}, {'id': 7, 'first_name': 'Rawle', 'last_name': 'Alkins', 'position': 'G', 'height': '6-5', 'weight': '225', 'jersey_number': '20', 'college': 'Arizona', 'country': 'USA', 'draft_year': None, 'draft_round': None, 'draft_number': None, 'team': {'id': 5, 'conference': 'East', 'division': 'Central', 'city': 'Chicago', 'name': 'Bulls', 'full_name': 'Chicago Bulls', 'abbreviation': 'CHI'}}, {'id': 8, 'first_name': 'Grayson', 'last_name': 'Allen', 'position': 'G', 'height': '6-4', 'weight': '198', 'jersey_number': '8', 'college': 'Duke', 'country': 'USA', 'draft_year': 2018, 'draft_round': 1, 'draft_number': 21, 'team': {'id': 24, 'conference': 'West', 'division': 'Pacific', 'city': 'Phoenix', 'name': 'Suns', 'full_name': 'Phoenix Suns', 'abbreviation': 'PHX'}}, {'id': 9, 'first_name': 'Jarrett', 'last_name': 'Allen', 'position': 'C', 'height': '6-9', 'weight': '243', 'jersey_number': '31', 'college': 'Texas', 'country': 'USA', 'draft_year': 2017, 'draft_round': 1, 'draft_number': 22, 'team': {'id': 6, 'conference': 'East', 'division': 'Central', 'city': 'Cleveland', 'name': 'Cavaliers', 'full_name': 'Cleveland Cavaliers', 'abbreviation': 'CLE'}}, {'id': 10, 'first_name': 'Al-Farouq', 'last_name': 'Aminu', 'position': 'F', 'height': '6-8', 'weight': '220', 'jersey_number': '5', 'college': 'Wake Forest', 'country': 'USA', 'draft_year': 2010, 'draft_round': 1, 'draft_number': 8, 'team': {'id': 25, 'conference': 'West', 'division': 'Northwest', 'city': 'Portland', 'name': 'Trail Blazers', 'full_name': 'Portland Trail Blazers', 'abbreviation': 'POR'}}, {'id': 11, 'first_name': 'Justin', 'last_name': 'Anderson', 'position': 'G-F', 'height': '6-5', 'weight': '231', 'jersey_number': '10', 'college': 'Virginia', 'country': 'USA', 'draft_year': 2015, 'draft_round': 1, 'draft_number': 21, 'team': {'id': 12, 'conference': 'East', 'division': 'Central', 'city': 'Indiana', 'name': 'Pacers', 'full_name': 'Indiana Pacers', 'abbreviation': 'IND'}}, {'id': 12, 'first_name': 'Kyle', 'last_name': 'Anderson', 'position': 'F', 'height': '6-9', 'weight': '230', 'jersey_number': '1', 'college': 'UCLA', 'country': 'USA', 'draft_year': 2014, 'draft_round': 1, 'draft_number': 30, 'team': {'id': 18, 'conference': 'West', 'division': 'Northwest', 'city': 'Minnesota', 'name': 'Timberwolves', 'full_name': 'Minnesota Timberwolves', 'abbreviation': 'MIN'}}, {'id': 13, 'first_name': 'Ryan', 'last_name': 'Anderson', 'position': 'F', 'height': '6-10', 'weight': '240', 'jersey_number': '31', 'college': 'California', 'country': 'USA', 'draft_year': 2008, 'draft_round': 1, 'draft_number': 21, 'team': {'id': 19, 'conference': 'West', 'division': 'Southwest', 'city': 'New Orleans', 'name': 'Pelicans', 'full_name': 'New Orleans Pelicans', 'abbreviation': 'NOP'}}, {'id': 14, 'first_name': 'Ike', 'last_name': 'Anigbogu', 'position': 'C', 'height': '6-10', 'weight': '262', 'jersey_number': '13', 'college': 'UCLA', 'country': 'USA', 'draft_year': 2017, 'draft_round': 2, 'draft_number': 47, 'team': {'id': 12, 'conference': 'East', 'division': 'Central', 'city': 'Indiana', 'name': 'Pacers', 'full_name': 'Indiana Pacers', 'abbreviation': 'IND'}}, {'id': 15, 'first_name': 'Giannis', 'last_name': 'Antetokounmpo', 'position': 'F', 'height': '6-11', 'weight': '243', 'jersey_number': '34', 'college': 'Filathlitikos', 'country': 'Greece', 'draft_year': 2013, 'draft_round': 1, 'draft_number': 15, 'team': {'id': 17, 'conference': 'East', 'division': 'Central', 'city': 'Milwaukee', 'name': 'Bucks', 'full_name': 'Milwaukee Bucks', 'abbreviation': 'MIL'}}, {'id': 16, 'first_name': 'Kostas', 'last_name': 'Antetokounmpo', 'position': 'F', 'height': '6-10', 'weight': '200', 'jersey_number': '37', 'college': 'Dayton', 'country': 'Greece', 'draft_year': 2018, 'draft_round': 2, 'draft_number': 60, 'team': {'id': 5, 'conference': 'East', 'division': 'Central', 'city': 'Chicago', 'name': 'Bulls', 'full_name': 'Chicago Bulls', 'abbreviation': 'CHI'}}, {'id': 17, 'first_name': 'Carmelo', 'last_name': 'Anthony', 'position': 'F', 'height': '6-7', 'weight': '238', 'jersey_number': '7', 'college': 'Syracuse', 'country': 'USA', 'draft_year': 2003, 'draft_round': 1, 'draft_number': 3, 'team': {'id': 14, 'conference': 'West', 'division': 'Pacific', 'city': 'Los Angeles', 'name': 'Lakers', 'full_name': 'Los Angeles Lakers', 'abbreviation': 'LAL'}}, {'id': 18, 'first_name': 'OG', 'last_name': 'Anunoby', 'position': 'F', 'height': '6-7', 'weight': '240', 'jersey_number': '8', 'college': 'Indiana', 'country': 'United Kingdom', 'draft_year': 2017, 'draft_round': 1, 'draft_number': 23, 'team': {'id': 20, 'conference': 'East', 'division': 'Atlantic', 'city': 'New York', 'name': 'Knicks', 'full_name': 'New York Knicks', 'abbreviation': 'NYK'}}, {'id': 19, 'first_name': 'Ryan', 'last_name': 'Arcidiacono', 'position': 'G', 'height': '6-3', 'weight': '195', 'jersey_number': '51', 'college': 'Villanova', 'country': 'USA', 'draft_year': None, 'draft_round': None, 'draft_number': None, 'team': {'id': 20, 'conference': 'East', 'division': 'Atlantic', 'city': 'New York', 'name': 'Knicks', 'full_name': 'New York Knicks', 'abbreviation': 'NYK'}}, {'id': 20, 'first_name': 'Trevor', 'last_name': 'Ariza', 'position': 'F', 'height': '6-8', 'weight': '215', 'jersey_number': '8', 'college': 'UCLA', 'country': 'USA', 'draft_year': 2004, 'draft_round': 2, 'draft_number': 43, 'team': {'id': 14, 'conference': 'West', 'division': 'Pacific', 'city': 'Los Angeles', 'name': 'Lakers', 'full_name': 'Los Angeles Lakers', 'abbreviation': 'LAL'}}, {'id': 21, 'first_name': 'D.J.', 'last_name': 'Augustin', 'position': 'G', 'height': '5-11', 'weight': '183', 'jersey_number': '4', 'college': 'Texas', 'country': 'USA', 'draft_year': 2008, 'draft_round': 1, 'draft_number': 9, 'team': {'id': 14, 'conference': 'West', 'division': 'Pacific', 'city': 'Los Angeles', 'name': 'Lakers', 'full_name': 'Los Angeles Lakers', 'abbreviation': 'LAL'}}, {'id': 22, 'first_name': 'Deandre', 'last_name': 'Ayton', 'position': 'C', 'height': '7-0', 'weight': '247', 'jersey_number': '2', 'college': 'Arizona', 'country': 'Bahamas', 'draft_year': 2018, 'draft_round': 1, 'draft_number': 1, 'team': {'id': 25, 'conference': 'West', 'division': 'Northwest', 'city': 'Portland', 'name': 'Trail Blazers', 'full_name': 'Portland Trail Blazers', 'abbreviation': 'POR'}}, {'id': 23, 'first_name': 'Dwayne', 'last_name': 'Bacon', 'position': 'G-F', 'height': '6-6', 'weight': '221', 'jersey_number': '8', 'college': 'Florida State', 'country': 'USA', 'draft_year': 2017, 'draft_round': 2, 'draft_number': 40, 'team': {'id': 14, 'conference': 'West', 'division': 'Pacific', 'city': 'Los Angeles', 'name': 'Lakers', 'full_name': 'Los Angeles Lakers', 'abbreviation': 'LAL'}}, {'id': 24, 'first_name': 'Marvin', 'last_name': 'Bagley III', 'position': 'F', 'height': '6-10', 'weight': '235', 'jersey_number': '35', 'college': 'Duke', 'country': 'USA', 'draft_year': 2018, 'draft_round': 1, 'draft_number': 2, 'team': {'id': 30, 'conference': 'East', 'division': 'Southeast', 'city': 'Washington', 'name': 'Wizards', 'full_name': 'Washington Wizards', 'abbreviation': 'WAS'}}, {'id': 25, 'first_name': 'Ron', 'last_name': 'Baker', 'position': 'G', 'height': '6-4', 'weight': '220', 'jersey_number': '31', 'college': 'Wichita State', 'country': 'USA', 'draft_year': None, 'draft_round': None, 'draft_number': None, 'team': {'id': 20, 'conference': 'East', 'division': 'Atlantic', 'city': 'New York', 'name': 'Knicks', 'full_name': 'New York Knicks', 'abbreviation': 'NYK'}}], 'meta': {'next_cursor': 25, 'per_page': 25}}\n"
     ]
    }
   ],
   "source": [
    "print(jugadores_json)"
   ]
  },
  {
   "cell_type": "code",
   "execution_count": 89,
   "metadata": {},
   "outputs": [
    {
     "data": {
      "text/plain": [
       "'Oklahoma City Thunder'"
      ]
     },
     "execution_count": 89,
     "metadata": {},
     "output_type": "execute_result"
    }
   ],
   "source": [
    "jugadores_json[\"data\"][0][\"team\"][\"full_name\"]"
   ]
  },
  {
   "cell_type": "code",
   "execution_count": 90,
   "metadata": {},
   "outputs": [
    {
     "data": {
      "text/plain": [
       "'Alex'"
      ]
     },
     "execution_count": 90,
     "metadata": {},
     "output_type": "execute_result"
    }
   ],
   "source": [
    "jugadores_json[\"data\"][0][\"first_name\"]"
   ]
  },
  {
   "cell_type": "code",
   "execution_count": 91,
   "metadata": {},
   "outputs": [
    {
     "data": {
      "text/plain": [
       "'Alex'"
      ]
     },
     "execution_count": 91,
     "metadata": {},
     "output_type": "execute_result"
    }
   ],
   "source": [
    "jugadores_json[\"data\"][0][\"first_name\"]"
   ]
  },
  {
   "cell_type": "code",
   "execution_count": 92,
   "metadata": {},
   "outputs": [
    {
     "data": {
      "text/plain": [
       "'Abrines'"
      ]
     },
     "execution_count": 92,
     "metadata": {},
     "output_type": "execute_result"
    }
   ],
   "source": [
    "jugadores_json[\"data\"][0][\"last_name\"]"
   ]
  },
  {
   "cell_type": "code",
   "execution_count": 93,
   "metadata": {},
   "outputs": [
    {
     "name": "stdout",
     "output_type": "stream",
     "text": [
      "['Oklahoma City Thunder', 'Atlanta Hawks', 'Houston Rockets', 'Miami Heat', 'Denver Nuggets', 'Brooklyn Nets', 'Chicago Bulls', 'Phoenix Suns', 'Cleveland Cavaliers', 'Portland Trail Blazers', 'Indiana Pacers', 'Minnesota Timberwolves', 'New Orleans Pelicans', 'Indiana Pacers', 'Milwaukee Bucks', 'Chicago Bulls', 'Los Angeles Lakers', 'New York Knicks', 'New York Knicks', 'Los Angeles Lakers', 'Los Angeles Lakers', 'Portland Trail Blazers', 'Los Angeles Lakers', 'Washington Wizards', 'New York Knicks']\n"
     ]
    }
   ],
   "source": [
    "equipo_jugadores = []\n",
    "for elemento in jugadores_json[\"data\"]:\n",
    "    equipo_jugadores.append(elemento[\"team\"][\"full_name\"])\n",
    "print(equipo_jugadores)"
   ]
  },
  {
   "cell_type": "code",
   "execution_count": 94,
   "metadata": {},
   "outputs": [],
   "source": [
    "nombres_jugadores = []\n",
    "for elemento in jugadores_json[\"data\"]:\n",
    "    nombres_jugadores.append(elemento[\"first_name\"])\n"
   ]
  },
  {
   "cell_type": "code",
   "execution_count": 95,
   "metadata": {},
   "outputs": [
    {
     "name": "stdout",
     "output_type": "stream",
     "text": [
      "['Alex', 'Jaylen', 'Steven', 'Bam', 'DeVaughn', 'LaMarcus', 'Rawle', 'Grayson', 'Jarrett', 'Al-Farouq', 'Justin', 'Kyle', 'Ryan', 'Ike', 'Giannis', 'Kostas', 'Carmelo', 'OG', 'Ryan', 'Trevor', 'D.J.', 'Deandre', 'Dwayne', 'Marvin', 'Ron']\n"
     ]
    }
   ],
   "source": [
    "print(nombres_jugadores)"
   ]
  },
  {
   "cell_type": "code",
   "execution_count": 96,
   "metadata": {},
   "outputs": [],
   "source": [
    "def llamar_api(url):\n",
    "    llamada = requests.get(url)\n",
    "    print(f\"la llamada a la API nos ha dado una respuesta de tipo {llamada.status_code}\")\n",
    "    if llamada.status_code != 200:\n",
    "        print(f\"el motivo por el que la llamada ha fallado es {llamada.reason}\")\n",
    "    else:\n",
    "        return llamada.json()\n"
   ]
  },
  {
   "cell_type": "code",
   "execution_count": 97,
   "metadata": {},
   "outputs": [],
   "source": [
    "def limpiar_jugadores(datos_json, diccionario_jugadores):\n",
    "    \n",
    "    \n",
    "    for elemento in datos_json[\"data\"]:\n",
    "        diccionario_jugadores[\"first_name\"].append(elemento[\"first_name\"])\n",
    "\n",
    "    \n",
    "    for elemento in datos_json[\"data\"]:\n",
    "        diccionario_jugadores[\"last_name\"].append(elemento[\"last_name\"])\n",
    "    \n",
    "    for elemento in datos_json[\"data\"]:\n",
    "        diccionario_jugadores[\"team\"].append(elemento[\"team\"][\"full_name\"])\n",
    "    return diccionario_jugadores\n"
   ]
  },
  {
   "cell_type": "code",
   "execution_count": 98,
   "metadata": {},
   "outputs": [],
   "source": [
    "diccionario_vacio = {\"first_name\": [], \"last_name\": [], \"team\": []}"
   ]
  },
  {
   "cell_type": "code",
   "execution_count": 99,
   "metadata": {},
   "outputs": [],
   "source": [
    "diccionario_final = limpiar_jugadores(jugadores_json, diccionario_vacio)"
   ]
  },
  {
   "cell_type": "code",
   "execution_count": 100,
   "metadata": {},
   "outputs": [
    {
     "name": "stdout",
     "output_type": "stream",
     "text": [
      "{'first_name': ['Alex', 'Jaylen', 'Steven', 'Bam', 'DeVaughn', 'LaMarcus', 'Rawle', 'Grayson', 'Jarrett', 'Al-Farouq', 'Justin', 'Kyle', 'Ryan', 'Ike', 'Giannis', 'Kostas', 'Carmelo', 'OG', 'Ryan', 'Trevor', 'D.J.', 'Deandre', 'Dwayne', 'Marvin', 'Ron'], 'last_name': ['Abrines', 'Adams', 'Adams', 'Adebayo', 'Akoon-Purcell', 'Aldridge', 'Alkins', 'Allen', 'Allen', 'Aminu', 'Anderson', 'Anderson', 'Anderson', 'Anigbogu', 'Antetokounmpo', 'Antetokounmpo', 'Anthony', 'Anunoby', 'Arcidiacono', 'Ariza', 'Augustin', 'Ayton', 'Bacon', 'Bagley III', 'Baker'], 'team': ['Oklahoma City Thunder', 'Atlanta Hawks', 'Houston Rockets', 'Miami Heat', 'Denver Nuggets', 'Brooklyn Nets', 'Chicago Bulls', 'Phoenix Suns', 'Cleveland Cavaliers', 'Portland Trail Blazers', 'Indiana Pacers', 'Minnesota Timberwolves', 'New Orleans Pelicans', 'Indiana Pacers', 'Milwaukee Bucks', 'Chicago Bulls', 'Los Angeles Lakers', 'New York Knicks', 'New York Knicks', 'Los Angeles Lakers', 'Los Angeles Lakers', 'Portland Trail Blazers', 'Los Angeles Lakers', 'Washington Wizards', 'New York Knicks']}\n"
     ]
    }
   ],
   "source": [
    "print(diccionario_final)"
   ]
  },
  {
   "cell_type": "code",
   "execution_count": 103,
   "metadata": {},
   "outputs": [
    {
     "data": {
      "text/html": [
       "<div>\n",
       "<style scoped>\n",
       "    .dataframe tbody tr th:only-of-type {\n",
       "        vertical-align: middle;\n",
       "    }\n",
       "\n",
       "    .dataframe tbody tr th {\n",
       "        vertical-align: top;\n",
       "    }\n",
       "\n",
       "    .dataframe thead th {\n",
       "        text-align: right;\n",
       "    }\n",
       "</style>\n",
       "<table border=\"1\" class=\"dataframe\">\n",
       "  <thead>\n",
       "    <tr style=\"text-align: right;\">\n",
       "      <th></th>\n",
       "      <th>first_name</th>\n",
       "      <th>last_name</th>\n",
       "      <th>team</th>\n",
       "    </tr>\n",
       "  </thead>\n",
       "  <tbody>\n",
       "    <tr>\n",
       "      <th>0</th>\n",
       "      <td>Alex</td>\n",
       "      <td>Abrines</td>\n",
       "      <td>Oklahoma City Thunder</td>\n",
       "    </tr>\n",
       "    <tr>\n",
       "      <th>1</th>\n",
       "      <td>Jaylen</td>\n",
       "      <td>Adams</td>\n",
       "      <td>Atlanta Hawks</td>\n",
       "    </tr>\n",
       "    <tr>\n",
       "      <th>2</th>\n",
       "      <td>Steven</td>\n",
       "      <td>Adams</td>\n",
       "      <td>Houston Rockets</td>\n",
       "    </tr>\n",
       "    <tr>\n",
       "      <th>3</th>\n",
       "      <td>Bam</td>\n",
       "      <td>Adebayo</td>\n",
       "      <td>Miami Heat</td>\n",
       "    </tr>\n",
       "    <tr>\n",
       "      <th>4</th>\n",
       "      <td>DeVaughn</td>\n",
       "      <td>Akoon-Purcell</td>\n",
       "      <td>Denver Nuggets</td>\n",
       "    </tr>\n",
       "    <tr>\n",
       "      <th>5</th>\n",
       "      <td>LaMarcus</td>\n",
       "      <td>Aldridge</td>\n",
       "      <td>Brooklyn Nets</td>\n",
       "    </tr>\n",
       "    <tr>\n",
       "      <th>6</th>\n",
       "      <td>Rawle</td>\n",
       "      <td>Alkins</td>\n",
       "      <td>Chicago Bulls</td>\n",
       "    </tr>\n",
       "    <tr>\n",
       "      <th>7</th>\n",
       "      <td>Grayson</td>\n",
       "      <td>Allen</td>\n",
       "      <td>Phoenix Suns</td>\n",
       "    </tr>\n",
       "    <tr>\n",
       "      <th>8</th>\n",
       "      <td>Jarrett</td>\n",
       "      <td>Allen</td>\n",
       "      <td>Cleveland Cavaliers</td>\n",
       "    </tr>\n",
       "    <tr>\n",
       "      <th>9</th>\n",
       "      <td>Al-Farouq</td>\n",
       "      <td>Aminu</td>\n",
       "      <td>Portland Trail Blazers</td>\n",
       "    </tr>\n",
       "    <tr>\n",
       "      <th>10</th>\n",
       "      <td>Justin</td>\n",
       "      <td>Anderson</td>\n",
       "      <td>Indiana Pacers</td>\n",
       "    </tr>\n",
       "    <tr>\n",
       "      <th>11</th>\n",
       "      <td>Kyle</td>\n",
       "      <td>Anderson</td>\n",
       "      <td>Minnesota Timberwolves</td>\n",
       "    </tr>\n",
       "    <tr>\n",
       "      <th>12</th>\n",
       "      <td>Ryan</td>\n",
       "      <td>Anderson</td>\n",
       "      <td>New Orleans Pelicans</td>\n",
       "    </tr>\n",
       "    <tr>\n",
       "      <th>13</th>\n",
       "      <td>Ike</td>\n",
       "      <td>Anigbogu</td>\n",
       "      <td>Indiana Pacers</td>\n",
       "    </tr>\n",
       "    <tr>\n",
       "      <th>14</th>\n",
       "      <td>Giannis</td>\n",
       "      <td>Antetokounmpo</td>\n",
       "      <td>Milwaukee Bucks</td>\n",
       "    </tr>\n",
       "    <tr>\n",
       "      <th>15</th>\n",
       "      <td>Kostas</td>\n",
       "      <td>Antetokounmpo</td>\n",
       "      <td>Chicago Bulls</td>\n",
       "    </tr>\n",
       "    <tr>\n",
       "      <th>16</th>\n",
       "      <td>Carmelo</td>\n",
       "      <td>Anthony</td>\n",
       "      <td>Los Angeles Lakers</td>\n",
       "    </tr>\n",
       "    <tr>\n",
       "      <th>17</th>\n",
       "      <td>OG</td>\n",
       "      <td>Anunoby</td>\n",
       "      <td>New York Knicks</td>\n",
       "    </tr>\n",
       "    <tr>\n",
       "      <th>18</th>\n",
       "      <td>Ryan</td>\n",
       "      <td>Arcidiacono</td>\n",
       "      <td>New York Knicks</td>\n",
       "    </tr>\n",
       "    <tr>\n",
       "      <th>19</th>\n",
       "      <td>Trevor</td>\n",
       "      <td>Ariza</td>\n",
       "      <td>Los Angeles Lakers</td>\n",
       "    </tr>\n",
       "    <tr>\n",
       "      <th>20</th>\n",
       "      <td>D.J.</td>\n",
       "      <td>Augustin</td>\n",
       "      <td>Los Angeles Lakers</td>\n",
       "    </tr>\n",
       "    <tr>\n",
       "      <th>21</th>\n",
       "      <td>Deandre</td>\n",
       "      <td>Ayton</td>\n",
       "      <td>Portland Trail Blazers</td>\n",
       "    </tr>\n",
       "    <tr>\n",
       "      <th>22</th>\n",
       "      <td>Dwayne</td>\n",
       "      <td>Bacon</td>\n",
       "      <td>Los Angeles Lakers</td>\n",
       "    </tr>\n",
       "    <tr>\n",
       "      <th>23</th>\n",
       "      <td>Marvin</td>\n",
       "      <td>Bagley III</td>\n",
       "      <td>Washington Wizards</td>\n",
       "    </tr>\n",
       "    <tr>\n",
       "      <th>24</th>\n",
       "      <td>Ron</td>\n",
       "      <td>Baker</td>\n",
       "      <td>New York Knicks</td>\n",
       "    </tr>\n",
       "  </tbody>\n",
       "</table>\n",
       "</div>"
      ],
      "text/plain": [
       "   first_name      last_name                    team\n",
       "0        Alex        Abrines   Oklahoma City Thunder\n",
       "1      Jaylen          Adams           Atlanta Hawks\n",
       "2      Steven          Adams         Houston Rockets\n",
       "3         Bam        Adebayo              Miami Heat\n",
       "4    DeVaughn  Akoon-Purcell          Denver Nuggets\n",
       "5    LaMarcus       Aldridge           Brooklyn Nets\n",
       "6       Rawle         Alkins           Chicago Bulls\n",
       "7     Grayson          Allen            Phoenix Suns\n",
       "8     Jarrett          Allen     Cleveland Cavaliers\n",
       "9   Al-Farouq          Aminu  Portland Trail Blazers\n",
       "10     Justin       Anderson          Indiana Pacers\n",
       "11       Kyle       Anderson  Minnesota Timberwolves\n",
       "12       Ryan       Anderson    New Orleans Pelicans\n",
       "13        Ike       Anigbogu          Indiana Pacers\n",
       "14    Giannis  Antetokounmpo         Milwaukee Bucks\n",
       "15     Kostas  Antetokounmpo           Chicago Bulls\n",
       "16    Carmelo        Anthony      Los Angeles Lakers\n",
       "17         OG        Anunoby         New York Knicks\n",
       "18       Ryan    Arcidiacono         New York Knicks\n",
       "19     Trevor          Ariza      Los Angeles Lakers\n",
       "20       D.J.       Augustin      Los Angeles Lakers\n",
       "21    Deandre          Ayton  Portland Trail Blazers\n",
       "22     Dwayne          Bacon      Los Angeles Lakers\n",
       "23     Marvin     Bagley III      Washington Wizards\n",
       "24        Ron          Baker         New York Knicks"
      ]
     },
     "execution_count": 103,
     "metadata": {},
     "output_type": "execute_result"
    }
   ],
   "source": [
    "df_jugadores = pd.DataFrame(diccionario_final)\n",
    "df_jugadores"
   ]
  }
 ],
 "metadata": {
  "kernelspec": {
   "display_name": "Python 3",
   "language": "python",
   "name": "python3"
  },
  "language_info": {
   "codemirror_mode": {
    "name": "ipython",
    "version": 3
   },
   "file_extension": ".py",
   "mimetype": "text/x-python",
   "name": "python",
   "nbconvert_exporter": "python",
   "pygments_lexer": "ipython3",
   "version": "3.11.9"
  }
 },
 "nbformat": 4,
 "nbformat_minor": 2
}
