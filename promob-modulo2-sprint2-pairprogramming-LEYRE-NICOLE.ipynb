{
 "cells": [
  {
   "cell_type": "markdown",
   "metadata": {},
   "source": [
    "1. Usa la [siguiente](https://es.wikipedia.org/wiki/Anexo:Medallero_de_los_Juegos_Ol%C3%ADmpicos_de_Tokio_2020) página web.\n",
    "2. Extrae la tabla de las medallas olímpicas que tenéis en la página web.\n",
    "3. Mete todo el código de la extracción de datos en una función.\n",
    "4. Los resultados deben estar en un *DataFrame* y hacer una exploración básica con los métodos aprendidos en la lección.\n",
    "WikipediaWikipedia\n",
    "Anexo:Medallero de los Juegos Olímpicos de Tokio 2020\n",
    "El siguiente medallero es una lista de los Comités Olímpicos Nacionales (CON) y un equipo que no pertenece a un CON, clasificado por el número de medallas de oro ganadas por sus atletas durante los Juegos Olímpicos de Tokio 2020, del 23 de julio al 8 de agosto de 2021. Bermudas, Catar y Filipinas ganaron sus primeras medallas de oro olímpicas,[1]​[2]\n",
    "[3]​ mientras que San Marino, Burkina Faso y Turkmenistán obtuvieron su primera medalla.[4]​[5]"
   ]
  },
  {
   "cell_type": "code",
   "execution_count": null,
   "metadata": {},
   "outputs": [],
   "source": []
  }
 ],
 "metadata": {
  "language_info": {
   "name": "python"
  }
 },
 "nbformat": 4,
 "nbformat_minor": 2
}
