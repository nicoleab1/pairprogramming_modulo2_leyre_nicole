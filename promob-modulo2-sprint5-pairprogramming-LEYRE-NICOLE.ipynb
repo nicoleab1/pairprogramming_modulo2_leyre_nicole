{
 "cells": [
  {
   "cell_type": "markdown",
   "metadata": {},
   "source": [
    "1. Haz las importaciones necesarias para establecer la conexión y trabajar con Pandas. Establece la conexión usando mysql.connector utilizando try/except por si la conexión devielve un error."
   ]
  },
  {
   "cell_type": "code",
   "execution_count": 8,
   "metadata": {},
   "outputs": [
    {
     "name": "stdout",
     "output_type": "stream",
     "text": [
      "True\n"
     ]
    }
   ],
   "source": [
    "import mysql.connector\n",
    "\n",
    "import pandas as pd\n",
    "\n",
    "try:\n",
    "    cnx = mysql.connector.connect(\n",
    "        user=\"root\",\n",
    "        password=\"AlumnaAdalab\",\n",
    "        host=\"127.0.0.1\",\n",
    "        auth_plugin='mysql_native_password'\n",
    "    )\n",
    "    print(cnx.is_connected())\n",
    "except:\n",
    "    print(\"No se ha podido establecer la conexión\")"
   ]
  },
  {
   "cell_type": "markdown",
   "metadata": {},
   "source": [
    "2. Crea un nuevo \"schema\" llamado \"alumnas-promo-X\""
   ]
  },
  {
   "cell_type": "code",
   "execution_count": 9,
   "metadata": {},
   "outputs": [
    {
     "name": "stdout",
     "output_type": "stream",
     "text": [
      "MySQLCursor: CREATE SCHEMA alumnas_promo_B_NICOLE_LEY..\n"
     ]
    }
   ],
   "source": [
    "cnx = mysql.connector.connect(\n",
    "    user=\"root\",\n",
    "    password=\"AlumnaAdalab\",\n",
    "    host=\"127.0.0.1\",\n",
    "    auth_plugin='mysql_native_password')\n",
    "\n",
    "mycursor = cnx.cursor()\n",
    "\n",
    "query = (\"CREATE SCHEMA alumnas_promo_B_NICOLE_LEYRE\")\n",
    "\n",
    "mycursor.execute(query)\n",
    "\n",
    "print(mycursor)"
   ]
  },
  {
   "cell_type": "markdown",
   "metadata": {},
   "source": [
    "3. Crea una tabla con la información de las alumnas de la promo. Debe incluir: id_alumna, nombre, apellidos, ciudad y teléfono."
   ]
  },
  {
   "cell_type": "code",
   "execution_count": 10,
   "metadata": {},
   "outputs": [
    {
     "name": "stdout",
     "output_type": "stream",
     "text": [
      "MySQLCursor: CREATE TABLE alumnas (id_alumna INT AUTO..\n"
     ]
    }
   ],
   "source": [
    "cnx = mysql.connector.connect(\n",
    "    user=\"root\",\n",
    "    password=\"AlumnaAdalab\",\n",
    "    host=\"127.0.0.1\",\n",
    "    database=\"alumnas_promo_B_NICOLE_LEYRE\",\n",
    "    auth_plugin='mysql_native_password')\n",
    "\n",
    "mycursor = cnx.cursor()\n",
    "\n",
    "query = (\"CREATE TABLE alumnas (id_alumna INT AUTO_INCREMENT NOT NULL, nombre VARCHAR(20), apellidos VARCHAR(30), ciudad VARCHAR (20), telefono INT, PRIMARY KEY (id_alumna))\")\n",
    "\n",
    "mycursor.execute(query)\n",
    "\n",
    "print(mycursor)\n"
   ]
  },
  {
   "cell_type": "markdown",
   "metadata": {},
   "source": [
    "4. Inserta por lo menos 10 datos en la tabla creada en el ejercicio anterior (pueden ser inventados)."
   ]
  },
  {
   "cell_type": "code",
   "execution_count": 11,
   "metadata": {},
   "outputs": [
    {
     "name": "stdout",
     "output_type": "stream",
     "text": [
      "MySQLCursor: INSERT INTO alumnas (nombre, apellidos, ..\n"
     ]
    }
   ],
   "source": [
    "\n",
    "sql = (\"INSERT INTO alumnas (nombre, apellidos, ciudad, telefono) VALUES (%s,%s,%s,%s)\")\n",
    "\n",
    "val = [(\"Leyre\", \"López de Silanes\", \"Madrid\", 641587458), (\"Nicole\", \"Aliaga\", \"La Paz\", 645748957), (\"Roberta\", \"Costa\", \"Barcelona\", 625987458), (\"Ana\", \"Torres\", \"Valencia\", 652369857), (\"Michaela\", \"Silva\", \"Madrid\", 635897587), (\"Fabiana\", \"Badani\", \"La Paz\", 698574874), (\"Andrés\", \"Torres\", \"Ibiza\", 635214785), (\"Iván\", \"Martinez\", \"Vigo\", 658748547), (\"Guillermo\", \"Rodríguez\", \"Santander\", 622547584), (\"Álvaro\", \"Nebreda\", \"Burgos\", 635214758)]\n",
    "\n",
    "mycursor.executemany(sql, val)\n",
    "\n",
    "cnx.commit()\n",
    "\n",
    "print(mycursor)"
   ]
  },
  {
   "cell_type": "markdown",
   "metadata": {},
   "source": [
    "5. Haz una consulta que devuelva todos los registros de la tabla \"alumnas\" y conviértelo en Dataframe (no te olvides del nombre de las columnas)."
   ]
  },
  {
   "cell_type": "code",
   "execution_count": 13,
   "metadata": {},
   "outputs": [
    {
     "name": "stdout",
     "output_type": "stream",
     "text": [
      "   id_alumna     nombre          apellido     ciudad   telefono\n",
      "0          1      Leyre  López de Silanes     Madrid  641587458\n",
      "1          2     Nicole            Aliaga     La Paz  645748957\n",
      "2          3    Roberta             Costa  Barcelona  625987458\n",
      "3          4        Ana            Torres   Valencia  652369857\n",
      "4          5   Michaela             Silva     Madrid  635897587\n",
      "5          6    Fabiana            Badani     La Paz  698574874\n",
      "6          7     Andrés            Torres      Ibiza  635214785\n",
      "7          8       Iván          Martinez       Vigo  658748547\n",
      "8          9  Guillermo         Rodríguez  Santander  622547584\n",
      "9         10     Álvaro           Nebreda     Burgos  635214758\n"
     ]
    }
   ],
   "source": [
    "query = \"SELECT * FROM alumnas\"\n",
    "\n",
    "mycursor.execute(query)\n",
    "\n",
    "myresults = mycursor.fetchall()\n",
    "\n",
    "df = pd.DataFrame(myresults, columns = [\"id_alumna\", \"nombre\", \"apellido\", \"ciudad\", \"telefono\"])\n",
    "\n",
    "print(df)"
   ]
  },
  {
   "cell_type": "markdown",
   "metadata": {},
   "source": [
    "6. Muestra los 3 primeros y tres últimos registros del Dataframe."
   ]
  },
  {
   "cell_type": "code",
   "execution_count": 15,
   "metadata": {},
   "outputs": [
    {
     "name": "stdout",
     "output_type": "stream",
     "text": [
      "   id_alumna   nombre          apellido     ciudad   telefono\n",
      "0          1    Leyre  López de Silanes     Madrid  641587458\n",
      "1          2   Nicole            Aliaga     La Paz  645748957\n",
      "2          3  Roberta             Costa  Barcelona  625987458\n",
      "   id_alumna     nombre   apellido     ciudad   telefono\n",
      "7          8       Iván   Martinez       Vigo  658748547\n",
      "8          9  Guillermo  Rodríguez  Santander  622547584\n",
      "9         10     Álvaro    Nebreda     Burgos  635214758\n"
     ]
    }
   ],
   "source": [
    "print(df.head(3))\n",
    "\n",
    "print(df.tail(3))"
   ]
  },
  {
   "cell_type": "markdown",
   "metadata": {},
   "source": [
    "7. ¿Hay registros duplicados?"
   ]
  },
  {
   "cell_type": "code",
   "execution_count": 16,
   "metadata": {},
   "outputs": [
    {
     "data": {
      "text/plain": [
       "0    False\n",
       "1    False\n",
       "2    False\n",
       "3    False\n",
       "4    False\n",
       "5    False\n",
       "6    False\n",
       "7    False\n",
       "8    False\n",
       "9    False\n",
       "dtype: bool"
      ]
     },
     "execution_count": 16,
     "metadata": {},
     "output_type": "execute_result"
    }
   ],
   "source": [
    "df.duplicated()"
   ]
  },
  {
   "cell_type": "markdown",
   "metadata": {},
   "source": [
    "8. Haz una consulta para extraer las diferentes ciudades en las que hay alumnas.\n"
   ]
  },
  {
   "cell_type": "code",
   "execution_count": 22,
   "metadata": {},
   "outputs": [
    {
     "name": "stderr",
     "output_type": "stream",
     "text": [
      "C:\\Users\\leyre\\AppData\\Local\\Temp\\ipykernel_31432\\3835552155.py:10: UserWarning: pandas only supports SQLAlchemy connectable (engine/connection) or database string URI or sqlite3 DBAPI2 connection. Other DBAPI2 objects are not tested. Please consider using SQLAlchemy.\n",
      "  df1 = pd.read_sql_query(query, cnx)\n"
     ]
    },
    {
     "data": {
      "text/html": [
       "<div>\n",
       "<style scoped>\n",
       "    .dataframe tbody tr th:only-of-type {\n",
       "        vertical-align: middle;\n",
       "    }\n",
       "\n",
       "    .dataframe tbody tr th {\n",
       "        vertical-align: top;\n",
       "    }\n",
       "\n",
       "    .dataframe thead th {\n",
       "        text-align: right;\n",
       "    }\n",
       "</style>\n",
       "<table border=\"1\" class=\"dataframe\">\n",
       "  <thead>\n",
       "    <tr style=\"text-align: right;\">\n",
       "      <th></th>\n",
       "      <th>ciudad</th>\n",
       "    </tr>\n",
       "  </thead>\n",
       "  <tbody>\n",
       "    <tr>\n",
       "      <th>0</th>\n",
       "      <td>Madrid</td>\n",
       "    </tr>\n",
       "    <tr>\n",
       "      <th>1</th>\n",
       "      <td>La Paz</td>\n",
       "    </tr>\n",
       "    <tr>\n",
       "      <th>2</th>\n",
       "      <td>Barcelona</td>\n",
       "    </tr>\n",
       "    <tr>\n",
       "      <th>3</th>\n",
       "      <td>Valencia</td>\n",
       "    </tr>\n",
       "    <tr>\n",
       "      <th>4</th>\n",
       "      <td>Madrid</td>\n",
       "    </tr>\n",
       "    <tr>\n",
       "      <th>5</th>\n",
       "      <td>La Paz</td>\n",
       "    </tr>\n",
       "    <tr>\n",
       "      <th>6</th>\n",
       "      <td>Ibiza</td>\n",
       "    </tr>\n",
       "    <tr>\n",
       "      <th>7</th>\n",
       "      <td>Vigo</td>\n",
       "    </tr>\n",
       "    <tr>\n",
       "      <th>8</th>\n",
       "      <td>Santander</td>\n",
       "    </tr>\n",
       "    <tr>\n",
       "      <th>9</th>\n",
       "      <td>Burgos</td>\n",
       "    </tr>\n",
       "  </tbody>\n",
       "</table>\n",
       "</div>"
      ],
      "text/plain": [
       "      ciudad\n",
       "0     Madrid\n",
       "1     La Paz\n",
       "2  Barcelona\n",
       "3   Valencia\n",
       "4     Madrid\n",
       "5     La Paz\n",
       "6      Ibiza\n",
       "7       Vigo\n",
       "8  Santander\n",
       "9     Burgos"
      ]
     },
     "execution_count": 22,
     "metadata": {},
     "output_type": "execute_result"
    }
   ],
   "source": [
    "cnx = mysql.connector.connect(\n",
    "    user=\"root\",\n",
    "    password=\"AlumnaAdalab\",\n",
    "    host=\"127.0.0.1\",\n",
    "    database=\"alumnas_promo_B_NICOLE_LEYRE\",\n",
    "    auth_plugin='mysql_native_password')\n",
    "\n",
    "query = (\"SELECT ciudad FROM alumnas\")\n",
    "\n",
    "df1 = pd.read_sql_query(query, cnx)\n",
    "\n",
    "df1"
   ]
  },
  {
   "cell_type": "markdown",
   "metadata": {},
   "source": [
    "9. Crea al menos dos Dataframes con la información de las alumnas de dos ciudades diferentes (usando dos queries)."
   ]
  },
  {
   "cell_type": "code",
   "execution_count": 24,
   "metadata": {},
   "outputs": [
    {
     "name": "stdout",
     "output_type": "stream",
     "text": [
      "   id_alumna   nombre apellidos  ciudad   telefono\n",
      "0          2   Nicole    Aliaga  La Paz  645748957\n",
      "1          6  Fabiana    Badani  La Paz  698574874\n",
      "   id_alumna    nombre         apellidos  ciudad   telefono\n",
      "0          1     Leyre  López de Silanes  Madrid  641587458\n",
      "1          5  Michaela             Silva  Madrid  635897587\n"
     ]
    },
    {
     "name": "stderr",
     "output_type": "stream",
     "text": [
      "C:\\Users\\leyre\\AppData\\Local\\Temp\\ipykernel_31432\\2608771874.py:12: UserWarning: pandas only supports SQLAlchemy connectable (engine/connection) or database string URI or sqlite3 DBAPI2 connection. Other DBAPI2 objects are not tested. Please consider using SQLAlchemy.\n",
      "  df1 = pd.read_sql_query(query1, cnx)\n",
      "C:\\Users\\leyre\\AppData\\Local\\Temp\\ipykernel_31432\\2608771874.py:14: UserWarning: pandas only supports SQLAlchemy connectable (engine/connection) or database string URI or sqlite3 DBAPI2 connection. Other DBAPI2 objects are not tested. Please consider using SQLAlchemy.\n",
      "  df2 = pd.read_sql_query(query2, cnx)\n"
     ]
    }
   ],
   "source": [
    "cnx = mysql.connector.connect(\n",
    "    user=\"root\",\n",
    "    password=\"AlumnaAdalab\",\n",
    "    host=\"127.0.0.1\",\n",
    "    database=\"alumnas_promo_B_NICOLE_LEYRE\",\n",
    "    auth_plugin='mysql_native_password')\n",
    "\n",
    "query1 = (\"SELECT * FROM alumnas WHERE ciudad = 'La Paz'\")\n",
    "\n",
    "query2 = (\"SELECT * FROM alumnas WHERE ciudad = 'Madrid'\")\n",
    "\n",
    "df1 = pd.read_sql_query(query1, cnx)\n",
    "\n",
    "df2 = pd.read_sql_query(query2, cnx)\n",
    "\n",
    "print(df1)\n",
    "\n",
    "print(df2)"
   ]
  }
 ],
 "metadata": {
  "kernelspec": {
   "display_name": "Python 3",
   "language": "python",
   "name": "python3"
  },
  "language_info": {
   "codemirror_mode": {
    "name": "ipython",
    "version": 3
   },
   "file_extension": ".py",
   "mimetype": "text/x-python",
   "name": "python",
   "nbconvert_exporter": "python",
   "pygments_lexer": "ipython3",
   "version": "3.12.2"
  }
 },
 "nbformat": 4,
 "nbformat_minor": 2
}
